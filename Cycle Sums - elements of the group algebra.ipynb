{
 "cells": [
  {
   "cell_type": "markdown",
   "metadata": {},
   "source": [
    "# Using Cycles for the Group Algebra"
   ]
  },
  {
   "cell_type": "markdown",
   "metadata": {},
   "source": [
    "Using these cycles, we can create elements of the group algebra by giving a list of cycles and a list of equal length of their prefactors."
   ]
  },
  {
   "cell_type": "code",
   "execution_count": 1,
   "metadata": {},
   "outputs": [],
   "source": [
    "from cycle_sum import CycleSum\n",
    "from cycle import Cycle\n",
    "from symmetriser import Symmetriser\n",
    "from IPython.display import display, Math, Latex"
   ]
  },
  {
   "cell_type": "markdown",
   "metadata": {},
   "source": [
    "Let's write down some combination of all the elemsnts of $S_3$"
   ]
  },
  {
   "cell_type": "code",
   "execution_count": 2,
   "metadata": {},
   "outputs": [
    {
     "data": {
      "text/plain": [
       "'+1()+2(1 2 3)-4(1 3 2)+6(1 2)+8(1 3)'"
      ]
     },
     "execution_count": 2,
     "metadata": {},
     "output_type": "execute_result"
    }
   ],
   "source": [
    "cycs = ['','(1,2,3)','(1,3,2)','(1,2)','(1 3)','(2,3)']\n",
    "prefactors = [1,2,-4,6,8,0]\n",
    "\n",
    "cycles = [Cycle(cyc) for cyc in cycs]\n",
    "\n",
    "gr_al_element1 = CycleSum(cycles,prefactors = prefactors)\n",
    "\n",
    "gr_al_element1.write_as_cycles()"
   ]
  },
  {
   "cell_type": "markdown",
   "metadata": {},
   "source": [
    "each element can also act on another element, as single cycles can act on elements (or vice-versa), if we declare them as cycle sums."
   ]
  },
  {
   "cell_type": "code",
   "execution_count": 3,
   "metadata": {},
   "outputs": [
    {
     "data": {
      "text/plain": [
       "'+8()-2(1 2 3)-12(1 3)-4(1 3 2)-16(2 3)'"
      ]
     },
     "execution_count": 3,
     "metadata": {},
     "output_type": "execute_result"
    }
   ],
   "source": [
    "cycs2 = ['(1,2,3)']\n",
    "prefactors2 = [-2]\n",
    "\n",
    "cycles2 = [Cycle(cyc) for cyc in cycs2]\n",
    "gr_al_element2 = CycleSum(cycles2,prefactors = prefactors2)\n",
    "\n",
    "gr_al_element2.act_on(gr_al_element1).write_as_cycles()"
   ]
  },
  {
   "cell_type": "markdown",
   "metadata": {},
   "source": [
    "Each sum can also be normalised, by acting on itself and then assigning new factors such that the element squared gives the same result as just the element applied once. We'll see this if we make a symmetriser:"
   ]
  },
  {
   "cell_type": "code",
   "execution_count": 4,
   "metadata": {},
   "outputs": [
    {
     "data": {
      "text/plain": [
       "'+1/6()+1/6(1 2 3)+1/6(1 3 2)+1/6(1 2)+1/6(1 3)+1/6(2 3)'"
      ]
     },
     "execution_count": 4,
     "metadata": {},
     "output_type": "execute_result"
    }
   ],
   "source": [
    "cycs_sym = ['','(1,2,3)','(1,3,2)','(1,2)','(1 3)','(2,3)']\n",
    "cycles_sym = [Cycle(cyc) for cyc in cycs_sym]\n",
    "\n",
    "gr_al_element_sym = CycleSum(cycles_sym)\n",
    "\n",
    "gr_al_element_sym_nmr = gr_al_element_sym.normalise()\n",
    "gr_al_element_sym_nmr.write_as_cycles()"
   ]
  },
  {
   "cell_type": "markdown",
   "metadata": {},
   "source": [
    "check that it is normalised:"
   ]
  },
  {
   "cell_type": "code",
   "execution_count": 5,
   "metadata": {},
   "outputs": [
    {
     "data": {
      "text/plain": [
       "'+1/6()+1/6(1 2)+1/6(1 2 3)+1/6(1 3)+1/6(1 3 2)+1/6(2 3)'"
      ]
     },
     "execution_count": 5,
     "metadata": {},
     "output_type": "execute_result"
    }
   ],
   "source": [
    "gr_al_element_sym_nmr.act_on(gr_al_element_sym_nmr).write_as_cycles()"
   ]
  },
  {
   "cell_type": "markdown",
   "metadata": {},
   "source": [
    "We can also reverse all the cycles in the operator at once:"
   ]
  },
  {
   "cell_type": "code",
   "execution_count": 6,
   "metadata": {},
   "outputs": [
    {
     "data": {
      "text/plain": [
       "'+1()+2(1 3 2)-4(1 2 3)+6(1 2)+8(1 3)'"
      ]
     },
     "execution_count": 6,
     "metadata": {},
     "output_type": "execute_result"
    }
   ],
   "source": [
    "gr_al_element1.reverse().write_as_cycles()"
   ]
  },
  {
   "cell_type": "markdown",
   "metadata": {},
   "source": [
    "## Symmetrisers and Antisymmetrisers"
   ]
  },
  {
   "cell_type": "markdown",
   "metadata": {},
   "source": [
    "Special kinds of these elemnts are symmetrisers and antisymmetrisers, and they can be automatically built and normalised. Let's give them over $S_3$."
   ]
  },
  {
   "cell_type": "code",
   "execution_count": 7,
   "metadata": {},
   "outputs": [
    {
     "name": "stdout",
     "output_type": "stream",
     "text": [
      "symmetriser:  +1()+1(2 3)+1(1 2)+1(1 2 3)+1(1 3 2)+1(1 3)\n",
      "antisymmetriser:  +1()-1(3 4)-1(2 3)+1(2 3 4)+1(2 4 3)-1(2 4)-1(1 2)+1(1 2)(3 4)+1(1 2 3)-1(1 2 3 4)-1(1 2 4 3)+1(1 2 4)+1(1 3 2)-1(1 3 4 2)-1(1 3)+1(1 3 4)+1(1 3)(2 4)-1(1 3 2 4)-1(1 4 3 2)+1(1 4 2)+1(1 4 3)-1(1 4)-1(1 4 2 3)+1(1 4)(2 3)\n"
     ]
    }
   ],
   "source": [
    "sym = Symmetriser([1,2,3])\n",
    "antisym = Symmetriser([1,2,3,4], antisym = True)\n",
    "\n",
    "print('symmetriser: ', sym.write_as_cycles())\n",
    "print('antisymmetriser: ', antisym.write_as_cycles())"
   ]
  },
  {
   "cell_type": "code",
   "execution_count": 8,
   "metadata": {},
   "outputs": [
    {
     "name": "stdout",
     "output_type": "stream",
     "text": [
      "symmetriser:  +1/6()+1/6(1 2)+1/6(1 2 3)+1/6(1 3)+1/6(1 3 2)+1/6(2 3)\n",
      "antisymmetriser:  +1/24()-1/24(1 2)+1/24(1 2)(3 4)+1/24(1 2 3)-1/24(1 2 3 4)+1/24(1 2 4)-1/24(1 2 4 3)-1/24(1 3)+1/24(1 3 2)-1/24(1 3 4 2)-1/24(2 3)+1/24(1 3 4)+1/24(1 3)(2 4)+1/24(2 3 4)-1/24(1 3 2 4)-1/24(1 4)+1/24(1 4 2)-1/24(1 4 3 2)+1/24(1 4 3)-1/24(2 4)+1/24(2 4 3)-1/24(3 4)-1/24(1 4 2 3)+1/24(1 4)(2 3)\n"
     ]
    }
   ],
   "source": [
    "sym_nmr = sym.normalise()\n",
    "antisym_nmr = antisym.normalise()\n",
    "\n",
    "print('symmetriser: ', sym_nmr.act_on(sym_nmr).write_as_cycles())\n",
    "print('antisymmetriser: ', antisym_nmr.act_on(antisym_nmr).write_as_cycles())"
   ]
  },
  {
   "cell_type": "markdown",
   "metadata": {},
   "source": [
    "and finally, we check if they act on each other to give zero:"
   ]
  },
  {
   "cell_type": "code",
   "execution_count": 9,
   "metadata": {},
   "outputs": [
    {
     "name": "stdout",
     "output_type": "stream",
     "text": [
      "any cycles left?:  0\n"
     ]
    }
   ],
   "source": [
    "print('any cycles left?: ',antisym.act_on(sym).write_as_cycles())"
   ]
  },
  {
   "cell_type": "markdown",
   "metadata": {},
   "source": [
    "and they too can be reversed, but will return the same operator."
   ]
  },
  {
   "cell_type": "code",
   "execution_count": 10,
   "metadata": {
    "scrolled": false
   },
   "outputs": [
    {
     "data": {
      "text/plain": [
       "'+1()-1(3 4)-1(2 3)+1(2 4 3)+1(2 3 4)-1(2 4)-1(1 2)+1(1 2)(3 4)+1(1 3 2)-1(1 4 3 2)-1(1 3 4 2)+1(1 4 2)+1(1 2 3)-1(1 2 4 3)-1(1 3)+1(1 4 3)+1(1 3)(2 4)-1(1 4 2 3)-1(1 2 3 4)+1(1 2 4)+1(1 3 4)-1(1 4)-1(1 3 2 4)+1(1 4)(2 3)'"
      ]
     },
     "execution_count": 10,
     "metadata": {},
     "output_type": "execute_result"
    }
   ],
   "source": [
    "antisym.reverse().write_as_cycles()"
   ]
  },
  {
   "cell_type": "markdown",
   "metadata": {},
   "source": [
    "## Conjugacy Operators\n",
    "\n",
    "the function conjugacy_class in tableau_utils can generate a conjugacy operator given as argument the number n describing S_n and a list containing the permutation, e.g., conjugacy_class(5, [2,3]) describes the 2+3 conjugacy class of S_5 and conjugacy_class(6, [2,3]) describes the 2+3+1 conjugacy class of S_6."
   ]
  },
  {
   "cell_type": "code",
   "execution_count": 11,
   "metadata": {},
   "outputs": [],
   "source": [
    "import tableau_utils as tu\n",
    "import fractions as fr"
   ]
  },
  {
   "cell_type": "markdown",
   "metadata": {},
   "source": [
    "let's generate the total projection operator for"
   ]
  },
  {
   "cell_type": "markdown",
   "metadata": {},
   "source": [
    "$[][]\n",
    " []"
   ]
  },
  {
   "cell_type": "code",
   "execution_count": 12,
   "metadata": {},
   "outputs": [],
   "source": [
    "cid = CycleSum([Cycle('')])\n",
    "c3 = CycleSum(tu.conjugacy_class(3,[3]))"
   ]
  },
  {
   "cell_type": "markdown",
   "metadata": {},
   "source": [
    "externally, we can calculate the characters of all the conjugacy classes and the total normalisation factor"
   ]
  },
  {
   "cell_type": "code",
   "execution_count": 13,
   "metadata": {},
   "outputs": [],
   "source": [
    "diag_2_1_pref = fr.Fraction(1,3)\n",
    "c3_pref = fr.Fraction(-1)\n",
    "id_pref = fr.Fraction(2)\n",
    "\n",
    "cid = cid.multiply_by_constant(id_pref*diag_2_1_pref)\n",
    "c3 = c3.multiply_by_constant(c3_pref*diag_2_1_pref)\n",
    "\n",
    "diag_2_1 = cid.sum_with(c3)"
   ]
  },
  {
   "cell_type": "code",
   "execution_count": 14,
   "metadata": {},
   "outputs": [
    {
     "data": {
      "text/plain": [
       "'+2/3()-1/3(1 2 3)-1/3(1 3 2)'"
      ]
     },
     "execution_count": 14,
     "metadata": {},
     "output_type": "execute_result"
    }
   ],
   "source": [
    "diag_2_1.write_as_cycles()"
   ]
  }
 ],
 "metadata": {
  "kernelspec": {
   "display_name": "Python 3",
   "language": "python",
   "name": "python3"
  },
  "language_info": {
   "codemirror_mode": {
    "name": "ipython",
    "version": 3
   },
   "file_extension": ".py",
   "mimetype": "text/x-python",
   "name": "python",
   "nbconvert_exporter": "python",
   "pygments_lexer": "ipython3",
   "version": "3.7.4"
  }
 },
 "nbformat": 4,
 "nbformat_minor": 2
}
