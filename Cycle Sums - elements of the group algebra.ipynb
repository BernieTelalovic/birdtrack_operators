{
 "cells": [
  {
   "cell_type": "markdown",
   "metadata": {},
   "source": [
    "# Using Cycles for the Group Algebra"
   ]
  },
  {
   "cell_type": "markdown",
   "metadata": {},
   "source": [
    "Using these cycles, we can create elements of the group algebra by giving a list of cycles and a list of equal length of their prefactors."
   ]
  },
  {
   "cell_type": "code",
   "execution_count": 2,
   "metadata": {},
   "outputs": [],
   "source": [
    "from cycle_sum import CycleSum\n",
    "from cycle import Cycle\n",
    "from symmetriser import Symmetriser\n",
    "from IPython.display import display, Math, Latex"
   ]
  },
  {
   "cell_type": "markdown",
   "metadata": {},
   "source": [
    "Let's write down some combination of all the elemsnts of $S_3$"
   ]
  },
  {
   "cell_type": "code",
   "execution_count": 3,
   "metadata": {},
   "outputs": [
    {
     "data": {
      "text/plain": [
       "'+()+2(2, 3, 1)-4(3, 2, 1)+6(2, 1)+8(3, 1)'"
      ]
     },
     "execution_count": 3,
     "metadata": {},
     "output_type": "execute_result"
    }
   ],
   "source": [
    "cycs = ['','(1,2,3)','(1,3,2)','(1,2)','(1 3)','(2,3)']\n",
    "prefactors = [1,2,-4,6,8,0]\n",
    "\n",
    "cycles = [Cycle(cyc) for cyc in cycs]\n",
    "\n",
    "gr_al_element1 = CycleSum(cycles,prefactors = prefactors)\n",
    "\n",
    "gr_al_element1.write_as_cycles()"
   ]
  },
  {
   "cell_type": "markdown",
   "metadata": {},
   "source": [
    "each element can also act on another element, asn dingle cycles can act on elements (or vice-versa), if we declare them as cycle sums."
   ]
  },
  {
   "cell_type": "code",
   "execution_count": 4,
   "metadata": {},
   "outputs": [
    {
     "data": {
      "text/plain": [
       "'-2(2, 3, 1)-4(3, 2, 1)+8()-12(3, 1)-16(3, 2)'"
      ]
     },
     "execution_count": 4,
     "metadata": {},
     "output_type": "execute_result"
    }
   ],
   "source": [
    "cycs2 = ['(1,2,3)']\n",
    "prefactors2 = [-2]\n",
    "\n",
    "cycles2 = [Cycle(cyc) for cyc in cycs2]\n",
    "gr_al_element2 = CycleSum(cycles2,prefactors = prefactors2)\n",
    "\n",
    "gr_al_element2.act_on(gr_al_element1).write_as_cycles()"
   ]
  },
  {
   "cell_type": "markdown",
   "metadata": {},
   "source": [
    "Each sum can also be normalised, by acting on itself and then assigning new factors such that the element squared gives the same result as just the element applied once. We'll see this if we make a symmetriser:"
   ]
  },
  {
   "cell_type": "code",
   "execution_count": 6,
   "metadata": {},
   "outputs": [
    {
     "data": {
      "text/plain": [
       "'+0.16666666666666666()+0.16666666666666666(2, 3, 1)+0.16666666666666666(3, 2, 1)+0.16666666666666666(2, 1)+0.16666666666666666(3, 1)+0.16666666666666666(3, 2)'"
      ]
     },
     "execution_count": 6,
     "metadata": {},
     "output_type": "execute_result"
    }
   ],
   "source": [
    "cycs_sym = ['','(1,2,3)','(1,3,2)','(1,2)','(1 3)','(2,3)']\n",
    "cycles_sym = [Cycle(cyc) for cyc in cycs_sym]\n",
    "\n",
    "gr_al_element_sym = CycleSum(cycles_sym)\n",
    "\n",
    "gr_al_element_sym_nmr = gr_al_element_sym.normalise()\n",
    "gr_al_element_sym_nmr.write_as_cycles()"
   ]
  },
  {
   "cell_type": "markdown",
   "metadata": {},
   "source": [
    "check that it is normalised:"
   ]
  },
  {
   "cell_type": "code",
   "execution_count": 7,
   "metadata": {},
   "outputs": [
    {
     "data": {
      "text/plain": [
       "'+0.16666666666666669()+0.16666666666666669(2, 3, 1)+0.16666666666666669(3, 2, 1)+0.16666666666666669(2, 1)+0.16666666666666669(3, 1)+0.16666666666666669(3, 2)'"
      ]
     },
     "execution_count": 7,
     "metadata": {},
     "output_type": "execute_result"
    }
   ],
   "source": [
    "gr_al_element_sym_nmr.act_on(gr_al_element_sym_nmr).write_as_cycles()"
   ]
  },
  {
   "cell_type": "markdown",
   "metadata": {},
   "source": [
    "We can also reverse all the cycles in the operator at once:"
   ]
  },
  {
   "cell_type": "code",
   "execution_count": 8,
   "metadata": {},
   "outputs": [
    {
     "data": {
      "text/plain": [
       "'+()+2(3, 2, 1)-4(2, 3, 1)+6(2, 1)+8(3, 1)'"
      ]
     },
     "execution_count": 8,
     "metadata": {},
     "output_type": "execute_result"
    }
   ],
   "source": [
    "gr_al_element1.reverse().write_as_cycles()"
   ]
  },
  {
   "cell_type": "markdown",
   "metadata": {},
   "source": [
    "# Symmetrisers and Antisymmetrisers"
   ]
  },
  {
   "cell_type": "markdown",
   "metadata": {},
   "source": [
    "Special kinds of these elemnts are symmetrisers and antisymmetrisers, and they can be automatically built and normalised. Let's give them over $S_3$."
   ]
  },
  {
   "cell_type": "code",
   "execution_count": 20,
   "metadata": {},
   "outputs": [
    {
     "name": "stdout",
     "output_type": "stream",
     "text": [
      "symmetriser:  +()+(3, 2)+(2, 1)+(2, 3, 1)+(3, 2, 1)+(3, 1)\n",
      "antisymmetriser:  +()-(2, 1)\n"
     ]
    }
   ],
   "source": [
    "sym = Symmetriser([1,2,3])\n",
    "antisym = Symmetriser([1,2], antisym = True)\n",
    "\n",
    "print('symmetriser: ', sym.write_as_cycles())\n",
    "print('antisymmetriser: ', antisym.write_as_cycles())"
   ]
  },
  {
   "cell_type": "code",
   "execution_count": 21,
   "metadata": {},
   "outputs": [
    {
     "name": "stdout",
     "output_type": "stream",
     "text": [
      "symmetriser:  +0.16666666666666669()+0.16666666666666669(3, 2)+0.16666666666666669(2, 1)+0.16666666666666669(2, 3, 1)+0.16666666666666669(3, 2, 1)+0.16666666666666669(3, 1)\n",
      "antisymmetriser:  +0.5()-0.5(2, 1)\n"
     ]
    }
   ],
   "source": [
    "sym_nmr = sym.normalise()\n",
    "antisym_nmr = antisym.normalise()\n",
    "\n",
    "print('symmetriser: ', sym_nmr.act_on(sym_nmr).write_as_cycles())\n",
    "print('antisymmetriser: ', antisym_nmr.act_on(antisym_nmr).write_as_cycles())"
   ]
  },
  {
   "cell_type": "markdown",
   "metadata": {},
   "source": [
    "and finally, we check if they act on each other to give zero:"
   ]
  },
  {
   "cell_type": "code",
   "execution_count": 22,
   "metadata": {},
   "outputs": [
    {
     "name": "stdout",
     "output_type": "stream",
     "text": [
      "any cycles left?:  0\n"
     ]
    }
   ],
   "source": [
    "print('any cycles left?: ',antisym.act_on(sym).write_as_cycles())"
   ]
  },
  {
   "cell_type": "markdown",
   "metadata": {},
   "source": [
    "and they too can be reversed:"
   ]
  },
  {
   "cell_type": "code",
   "execution_count": 23,
   "metadata": {},
   "outputs": [
    {
     "data": {
      "text/plain": [
       "'+()-(2, 1)'"
      ]
     },
     "execution_count": 23,
     "metadata": {},
     "output_type": "execute_result"
    }
   ],
   "source": [
    "antisym.reverse().write_as_cycles()"
   ]
  },
  {
   "cell_type": "code",
   "execution_count": null,
   "metadata": {},
   "outputs": [],
   "source": []
  }
 ],
 "metadata": {
  "kernelspec": {
   "display_name": "Python 3",
   "language": "python",
   "name": "python3"
  },
  "language_info": {
   "codemirror_mode": {
    "name": "ipython",
    "version": 3
   },
   "file_extension": ".py",
   "mimetype": "text/x-python",
   "name": "python",
   "nbconvert_exporter": "python",
   "pygments_lexer": "ipython3",
   "version": "3.7.4"
  }
 },
 "nbformat": 4,
 "nbformat_minor": 2
}
