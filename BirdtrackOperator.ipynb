{
 "cells": [
  {
   "cell_type": "markdown",
   "metadata": {},
   "source": [
    "# Birdtrack Operator"
   ]
  },
  {
   "cell_type": "code",
   "execution_count": 1,
   "metadata": {},
   "outputs": [],
   "source": [
    "from tableau import Tableau\n",
    "from cycle_sum import CycleSum\n",
    "from symmetriser import Symmetriser\n",
    "from birdtrack_operator import BirdtrackOperator"
   ]
  },
  {
   "cell_type": "markdown",
   "metadata": {},
   "source": [
    "we create an instance of an operator by giving a list of symmetrisers/antisymmetrisers in order in which they appear from left to right. The domains of those (anti)symmetrisers correspond to the lines going through them if the operator to the left of this one would be the identity.\n",
    "\n",
    "For example,\n",
    "\n",
    "{\\verbatim\n",
    "  ___  ___\n",
    "--| |--|||--\n",
    "--| |\\/|||\\/\n",
    "-----/\\---/\\}\n",
    "\n",
    "is created with the list [Symmetriser([1,2]), Symmetriser([1,3], antisym = True)]\n",
    "\n",
    "It is not neccecary to give permutations between the (anti)symmetrisers, the arrangement of lines in the domain does this automatically.\n",
    "\n",
    "The operator is normalised by the constructor by default. This makes computation slower. To turn it off, toggle 'normalise = False'."
   ]
  },
  {
   "cell_type": "code",
   "execution_count": 2,
   "metadata": {},
   "outputs": [],
   "source": [
    "op = BirdtrackOperator([Symmetriser([1,2]), Symmetriser([1,3], antisym = True)], normalise = False)\n",
    "op2 = BirdtrackOperator([Symmetriser([1,2,4]), Symmetriser([1,3], antisym = True)], normalise = False)"
   ]
  },
  {
   "cell_type": "markdown",
   "metadata": {},
   "source": [
    "To write the operator as a sum of permutations, we use the command collapse(), which returns a CycleSum object"
   ]
  },
  {
   "cell_type": "code",
   "execution_count": 3,
   "metadata": {},
   "outputs": [
    {
     "name": "stdout",
     "output_type": "stream",
     "text": [
      "+1()+1(1 2)-1(1 3)-1(1 3 2)\n"
     ]
    }
   ],
   "source": [
    "op_collapsed = op.collapse()\n",
    "print(op_collapsed.write_as_cycles())"
   ]
  },
  {
   "cell_type": "markdown",
   "metadata": {},
   "source": [
    "Operators can act on each other, returning a CycleSum object"
   ]
  },
  {
   "cell_type": "code",
   "execution_count": 4,
   "metadata": {},
   "outputs": [],
   "source": [
    "op_op2 = op.deepact_on(op2)"
   ]
  },
  {
   "cell_type": "code",
   "execution_count": 5,
   "metadata": {},
   "outputs": [
    {
     "data": {
      "text/plain": [
       "'+3()+3(1 2)+1(1 2)(3 4)+1(1 2 3 4)+3(1 2 4)-3(1 3)-3(1 3 2)-2(1 3 4 2)-2(1 3 4)-3(1 3)(2 4)+1(2 3 4)-3(1 3 2 4)+2(1 4)+2(1 4 2)-1(1 4 3 2)-1(1 4 3)+3(2 4)+1(3 4)-1(1 4 2 3)-1(1 4)(2 3)'"
      ]
     },
     "execution_count": 5,
     "metadata": {},
     "output_type": "execute_result"
    }
   ],
   "source": [
    "op_op2.write_as_cycles()"
   ]
  },
  {
   "cell_type": "markdown",
   "metadata": {},
   "source": [
    "to normalise the operator, we use:"
   ]
  },
  {
   "cell_type": "code",
   "execution_count": 6,
   "metadata": {},
   "outputs": [],
   "source": [
    "op.normalise()"
   ]
  },
  {
   "cell_type": "code",
   "execution_count": 8,
   "metadata": {},
   "outputs": [
    {
     "data": {
      "text/plain": [
       "Fraction(4, 3)"
      ]
     },
     "execution_count": 8,
     "metadata": {},
     "output_type": "execute_result"
    }
   ],
   "source": [
    "op.prefactor #<- the normalisation factor"
   ]
  },
  {
   "cell_type": "markdown",
   "metadata": {},
   "source": [
    "and check if its idempotent"
   ]
  },
  {
   "cell_type": "code",
   "execution_count": 9,
   "metadata": {},
   "outputs": [
    {
     "data": {
      "text/plain": [
       "True"
      ]
     },
     "execution_count": 9,
     "metadata": {},
     "output_type": "execute_result"
    }
   ],
   "source": [
    "op.is_idempotent()"
   ]
  }
 ],
 "metadata": {
  "kernelspec": {
   "display_name": "Python 3",
   "language": "python",
   "name": "python3"
  },
  "language_info": {
   "codemirror_mode": {
    "name": "ipython",
    "version": 3
   },
   "file_extension": ".py",
   "mimetype": "text/x-python",
   "name": "python",
   "nbconvert_exporter": "python",
   "pygments_lexer": "ipython3",
   "version": "3.7.4"
  }
 },
 "nbformat": 4,
 "nbformat_minor": 2
}
