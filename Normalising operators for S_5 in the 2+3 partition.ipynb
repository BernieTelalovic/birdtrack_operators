{
 "cells": [
  {
   "cell_type": "code",
   "execution_count": 1,
   "metadata": {},
   "outputs": [],
   "source": [
    "from cycle import Cycle\n",
    "import numpy as np\n",
    "import copy as cp\n",
    "import fractions as fr\n",
    "from diagram import Diagram\n",
    "from tableau import Tableau\n",
    "from cycle_sum import CycleSum\n",
    "from symmetriser import Symmetriser\n",
    "import tableau_utils as tu\n",
    "from birdtrack_operator import BirdtrackOperator\n",
    "from IPython.display import display, Math, Latex\n",
    "import math"
   ]
  },
  {
   "cell_type": "markdown",
   "metadata": {},
   "source": [
    "$(2)\\times(3) = [][]\\otimes[][][] = [][][][][] + [][][][] + [][][]$\\n\n",
    "$                                                []         [][]$\n",
    "                                                  P_2_3_a    P_2_3_b"
   ]
  },
  {
   "cell_type": "code",
   "execution_count": 2,
   "metadata": {},
   "outputs": [],
   "source": [
    "P_2_3_a = BirdtrackOperator([Symmetriser([1,2]), Symmetriser([3,4,5]),\n",
    "                             Symmetriser([1,3], antisym = True), \n",
    "                             Symmetriser([2,4,5]),\n",
    "                             Symmetriser([3,4,5]), Symmetriser([1,2])], \n",
    "                            normalise = True)"
   ]
  },
  {
   "cell_type": "code",
   "execution_count": 3,
   "metadata": {},
   "outputs": [
    {
     "data": {
      "text/plain": [
       "Fraction(12, 5)"
      ]
     },
     "execution_count": 3,
     "metadata": {},
     "output_type": "execute_result"
    }
   ],
   "source": [
    "P_2_3_a.prefactor"
   ]
  },
  {
   "cell_type": "code",
   "execution_count": 4,
   "metadata": {},
   "outputs": [],
   "source": [
    "P_2_3_b = BirdtrackOperator([Symmetriser([1,2]), Symmetriser([3,4,5]),\n",
    "                             Symmetriser([1,3], antisym = True), \n",
    "                             Symmetriser([2,4], antisym = True),\n",
    "                             Symmetriser([3,4,5]), Symmetriser([1,2])], \n",
    "                            normalise = True)"
   ]
  },
  {
   "cell_type": "code",
   "execution_count": 5,
   "metadata": {},
   "outputs": [
    {
     "data": {
      "text/plain": [
       "Fraction(2, 1)"
      ]
     },
     "execution_count": 5,
     "metadata": {},
     "output_type": "execute_result"
    }
   ],
   "source": [
    "P_2_3_b.prefactor"
   ]
  },
  {
   "cell_type": "markdown",
   "metadata": {},
   "source": [
    "$(2)\\times(2,1) = [][]\\otimes[3][4] = [][][][] + [][][] + [][][] + [][]$\n",
    "$                            [5]      []         [][]     []       [][]$\n",
    "$                                                         []       []$\n",
    "                                   P_2_21_a   P_2_21_b  P_2_21_c P_2_21_d"
   ]
  },
  {
   "cell_type": "code",
   "execution_count": 6,
   "metadata": {},
   "outputs": [],
   "source": [
    "P_2_21_a = BirdtrackOperator([Symmetriser([3,4]), \n",
    "                             Symmetriser([4,5], antisym = True), \n",
    "                             Symmetriser([1,2,3,4]),\n",
    "                             Symmetriser([4,5], antisym = True), \n",
    "                             Symmetriser([3,4])], \n",
    "                            normalise = True)"
   ]
  },
  {
   "cell_type": "code",
   "execution_count": 7,
   "metadata": {},
   "outputs": [
    {
     "data": {
      "text/plain": [
       "Fraction(32, 15)"
      ]
     },
     "execution_count": 7,
     "metadata": {},
     "output_type": "execute_result"
    }
   ],
   "source": [
    "P_2_21_a.prefactor"
   ]
  },
  {
   "cell_type": "code",
   "execution_count": 8,
   "metadata": {},
   "outputs": [],
   "source": [
    "P_2_21_b = BirdtrackOperator([Symmetriser([1,2]), Symmetriser([3,4]),\n",
    "                             Symmetriser([1,3], antisym = True), \n",
    "                             Symmetriser([4,5], antisym = True), \n",
    "                             Symmetriser([1,2,4]), Symmetriser([3,5]),\n",
    "                             Symmetriser([4,5], antisym = True),\n",
    "                             Symmetriser([1,3], antisym = True),\n",
    "                             Symmetriser([3,4]),Symmetriser([1,2])], \n",
    "                            normalise = True)"
   ]
  },
  {
   "cell_type": "code",
   "execution_count": 9,
   "metadata": {},
   "outputs": [
    {
     "data": {
      "text/plain": [
       "Fraction(32, 9)"
      ]
     },
     "execution_count": 9,
     "metadata": {},
     "output_type": "execute_result"
    }
   ],
   "source": [
    "P_2_21_b.prefactor"
   ]
  },
  {
   "cell_type": "code",
   "execution_count": 10,
   "metadata": {},
   "outputs": [],
   "source": [
    "P_2_21_c = BirdtrackOperator([Symmetriser([1,2]), Symmetriser([3,4]),\n",
    "                             Symmetriser([1,3]), \n",
    "                             Symmetriser([2,4,5], antisym = True),\n",
    "                             Symmetriser([3,4]), Symmetriser([1,2])], \n",
    "                            normalise = True)"
   ]
  },
  {
   "cell_type": "code",
   "execution_count": 11,
   "metadata": {},
   "outputs": [
    {
     "data": {
      "text/plain": [
       "Fraction(12, 5)"
      ]
     },
     "execution_count": 11,
     "metadata": {},
     "output_type": "execute_result"
    }
   ],
   "source": [
    "P_2_21_c.prefactor"
   ]
  },
  {
   "cell_type": "code",
   "execution_count": 12,
   "metadata": {},
   "outputs": [],
   "source": [
    "P_2_21_d = BirdtrackOperator([Symmetriser([1,2]), Symmetriser([3,4]),\n",
    "                             Symmetriser([1,3], antisym = True), \n",
    "                             Symmetriser([2,4,5], antisym = True),\n",
    "                             Symmetriser([3,4]), Symmetriser([1,2])], \n",
    "                            normalise = True)"
   ]
  },
  {
   "cell_type": "code",
   "execution_count": 13,
   "metadata": {},
   "outputs": [
    {
     "data": {
      "text/plain": [
       "Fraction(2, 1)"
      ]
     },
     "execution_count": 13,
     "metadata": {},
     "output_type": "execute_result"
    }
   ],
   "source": [
    "P_2_21_d.prefactor"
   ]
  },
  {
   "cell_type": "markdown",
   "metadata": {},
   "source": [
    "$(2)\\times(2,1) = [][]\\otimes[3][5] = [][][][] + [][][] + [][][] + [][]$\n",
    "$                            [4]      []         [][]     []       [][]$\n",
    "$                                                         []       []$\n",
    "                                   P_2_21_w   P_2_21_x  P_2_21_y P_2_21_z"
   ]
  },
  {
   "cell_type": "code",
   "execution_count": 14,
   "metadata": {},
   "outputs": [],
   "source": [
    "P_2_21_w = BirdtrackOperator([Symmetriser([3,4], antisym = True), \n",
    "                             Symmetriser([1,2,3,5]),\n",
    "                             Symmetriser([3,4], antisym = True)], \n",
    "                            normalise = True)"
   ]
  },
  {
   "cell_type": "code",
   "execution_count": 15,
   "metadata": {},
   "outputs": [
    {
     "data": {
      "text/plain": [
       "Fraction(8, 5)"
      ]
     },
     "execution_count": 15,
     "metadata": {},
     "output_type": "execute_result"
    }
   ],
   "source": [
    "P_2_21_w.prefactor"
   ]
  },
  {
   "cell_type": "code",
   "execution_count": 16,
   "metadata": {},
   "outputs": [],
   "source": [
    "P_2_21_x = BirdtrackOperator([Symmetriser([3,4], antisym = True),\n",
    "                             Symmetriser([1,2,3]), \n",
    "                             Symmetriser([4,5]), \n",
    "                              Symmetriser([2,4], antisym = True), \n",
    "                              Symmetriser([3,5], antisym = True),\n",
    "                             Symmetriser([4,5]),\n",
    "                             Symmetriser([1,2,3]),\n",
    "                             Symmetriser([3,4])], \n",
    "                            normalise = True)"
   ]
  },
  {
   "cell_type": "code",
   "execution_count": 17,
   "metadata": {},
   "outputs": [
    {
     "data": {
      "text/plain": [
       "Fraction(1, 1)"
      ]
     },
     "execution_count": 17,
     "metadata": {},
     "output_type": "execute_result"
    }
   ],
   "source": [
    "P_2_21_x.prefactor"
   ]
  },
  {
   "cell_type": "code",
   "execution_count": 18,
   "metadata": {},
   "outputs": [],
   "source": [
    "P_2_21_y = BirdtrackOperator([Symmetriser([4,5], antisym = True),\n",
    "                                         Symmetriser([1,2]), Symmetriser([3,5]),\n",
    "                                         Symmetriser([1,3]), \n",
    "                                         Symmetriser([2,4,5], antisym = True),\n",
    "                                         Symmetriser([3,5]), Symmetriser([1,2]),\n",
    "                                        Symmetriser([4,5], antisym = True)], \n",
    "                                        normalise = True)"
   ]
  },
  {
   "cell_type": "code",
   "execution_count": 19,
   "metadata": {},
   "outputs": [
    {
     "data": {
      "text/plain": [
       "Fraction(16, 5)"
      ]
     },
     "execution_count": 19,
     "metadata": {},
     "output_type": "execute_result"
    }
   ],
   "source": [
    "P_2_21_y.prefactor"
   ]
  },
  {
   "cell_type": "code",
   "execution_count": 20,
   "metadata": {},
   "outputs": [],
   "source": [
    "P_2_21_z = BirdtrackOperator([Symmetriser([4,5], antisym = True),\n",
    "                                         Symmetriser([1,2]), Symmetriser([3,5]),\n",
    "                                         Symmetriser([1,3], antisym = True), \n",
    "                                         Symmetriser([2,4,5], antisym = True),\n",
    "                                         Symmetriser([3,5]), Symmetriser([1,2]),\n",
    "                                        Symmetriser([4,5], antisym = True)], \n",
    "                                        normalise = True)"
   ]
  },
  {
   "cell_type": "code",
   "execution_count": 21,
   "metadata": {},
   "outputs": [
    {
     "data": {
      "text/plain": [
       "Fraction(8, 3)"
      ]
     },
     "execution_count": 21,
     "metadata": {},
     "output_type": "execute_result"
    }
   ],
   "source": [
    "P_2_21_z.prefactor"
   ]
  },
  {
   "cell_type": "markdown",
   "metadata": {},
   "source": [
    "$(2)\\times(1,1,1) = [][]\\otimes[3][5] = [][][] + [][]$\n",
    "$                              [4]      []       []$\n",
    "$                              [5]      []       []$\n",
    "$                                                []$\n",
    "                                  P_2_111_a   P_2_111_b"
   ]
  },
  {
   "cell_type": "code",
   "execution_count": 22,
   "metadata": {},
   "outputs": [],
   "source": [
    "P_2_111_a = BirdtrackOperator([Symmetriser([3,4,5], antisym = True), \n",
    "                             Symmetriser([1,2,3]),\n",
    "                             Symmetriser([3,4,5], antisym = True)], \n",
    "                            normalise = True)"
   ]
  },
  {
   "cell_type": "code",
   "execution_count": 23,
   "metadata": {},
   "outputs": [
    {
     "data": {
      "text/plain": [
       "Fraction(9, 5)"
      ]
     },
     "execution_count": 23,
     "metadata": {},
     "output_type": "execute_result"
    }
   ],
   "source": [
    "P_2_111_a.prefactor"
   ]
  },
  {
   "cell_type": "code",
   "execution_count": 24,
   "metadata": {},
   "outputs": [],
   "source": [
    "P_2_111_b = BirdtrackOperator([Symmetriser([1,2]), \n",
    "                             Symmetriser([2,3,4,5], antisym = True),\n",
    "                             Symmetriser([1,2])], \n",
    "                            normalise = True)"
   ]
  },
  {
   "cell_type": "code",
   "execution_count": 25,
   "metadata": {},
   "outputs": [
    {
     "data": {
      "text/plain": [
       "Fraction(8, 5)"
      ]
     },
     "execution_count": 25,
     "metadata": {},
     "output_type": "execute_result"
    }
   ],
   "source": [
    "P_2_111_b.prefactor"
   ]
  }
 ],
 "metadata": {
  "kernelspec": {
   "display_name": "Python 3",
   "language": "python",
   "name": "python3"
  },
  "language_info": {
   "codemirror_mode": {
    "name": "ipython",
    "version": 3
   },
   "file_extension": ".py",
   "mimetype": "text/x-python",
   "name": "python",
   "nbconvert_exporter": "python",
   "pygments_lexer": "ipython3",
   "version": "3.7.4"
  }
 },
 "nbformat": 4,
 "nbformat_minor": 2
}
