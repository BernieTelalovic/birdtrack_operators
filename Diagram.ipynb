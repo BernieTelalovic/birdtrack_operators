{
 "cells": [
  {
   "cell_type": "markdown",
   "metadata": {},
   "source": [
    "# Diagram"
   ]
  },
  {
   "cell_type": "markdown",
   "metadata": {},
   "source": [
    "Here will will demonstrate the functionality of the Diagram class."
   ]
  },
  {
   "cell_type": "code",
   "execution_count": 1,
   "metadata": {},
   "outputs": [],
   "source": [
    "from diagram import Diagram\n",
    "from IPython.display import display, Math, Latex"
   ]
  },
  {
   "cell_type": "markdown",
   "metadata": {},
   "source": [
    "First, we declare diagrams by giving a list of row lengths, as follows:"
   ]
  },
  {
   "cell_type": "code",
   "execution_count": 2,
   "metadata": {},
   "outputs": [
    {
     "data": {
      "text/plain": [
       "{'diagram': [[[], []], [[]]], 'prefactor': Fraction(1, 1)}"
      ]
     },
     "execution_count": 2,
     "metadata": {},
     "output_type": "execute_result"
    }
   ],
   "source": [
    "diag1 = [2,1]\n",
    "diag2 = [1,1]\n",
    "diagram1 = Diagram(diag1)\n",
    "diagram2 = Diagram(diag2)\n",
    "diagram1.diagram"
   ]
  },
  {
   "cell_type": "markdown",
   "metadata": {},
   "source": [
    "we can write visualise it on the command line as follows:"
   ]
  },
  {
   "cell_type": "code",
   "execution_count": 3,
   "metadata": {},
   "outputs": [
    {
     "name": "stdout",
     "output_type": "stream",
     "text": [
      "1\n",
      "[] []\n",
      "[]\n",
      "\n"
     ]
    }
   ],
   "source": [
    "print(diagram1.write_diagram())"
   ]
  },
  {
   "cell_type": "markdown",
   "metadata": {},
   "source": [
    "We can multiply diagrams together one-by-one:"
   ]
  },
  {
   "cell_type": "code",
   "execution_count": 4,
   "metadata": {},
   "outputs": [
    {
     "name": "stdout",
     "output_type": "stream",
     "text": [
      "1\n",
      "[] [] []\n",
      "[] []\n",
      "1\n",
      "[] [] []\n",
      "[]\n",
      "[]\n",
      "1\n",
      "[] []\n",
      "[] []\n",
      "[]\n",
      "1\n",
      "[] []\n",
      "[]\n",
      "[]\n",
      "[]\n",
      "\n"
     ]
    }
   ],
   "source": [
    "product = diagram1.direct_multiple(diagram2, verbose = False)\n",
    "print(Diagram.write_diagrams(Diagram.simplify_diagram_list(product)))"
   ]
  },
  {
   "cell_type": "markdown",
   "metadata": {},
   "source": [
    "or by putting them both in a list"
   ]
  },
  {
   "cell_type": "code",
   "execution_count": 5,
   "metadata": {},
   "outputs": [
    {
     "name": "stdout",
     "output_type": "stream",
     "text": [
      "1\n",
      "[] [] []\n",
      "[] []\n",
      "1\n",
      "[] [] []\n",
      "[]\n",
      "[]\n",
      "1\n",
      "[] []\n",
      "[] []\n",
      "[]\n",
      "1\n",
      "[] []\n",
      "[]\n",
      "[]\n",
      "[]\n",
      "\n"
     ]
    }
   ],
   "source": [
    "product_from_list = Diagram.direct_multiple_list([diagram1, diagram2], verbose = False)\n",
    "print(Diagram.write_diagrams(Diagram.simplify_diagram_list(product_from_list)))"
   ]
  },
  {
   "cell_type": "markdown",
   "metadata": {},
   "source": [
    "we can even visualise the use of the Littlewood--Richardson algorithm for multiplication if we turn on the verbose argument and (importantly!) do not simplify the printed list."
   ]
  },
  {
   "cell_type": "code",
   "execution_count": 6,
   "metadata": {},
   "outputs": [
    {
     "name": "stdout",
     "output_type": "stream",
     "text": [
      "1\n",
      "[] [] [1]\n",
      "[] [2]\n",
      "1\n",
      "[] [] [1]\n",
      "[]\n",
      "[2]\n",
      "1\n",
      "[] []\n",
      "[] [1]\n",
      "[2]\n",
      "1\n",
      "[] []\n",
      "[]\n",
      "[1]\n",
      "[2]\n",
      "\n"
     ]
    }
   ],
   "source": [
    "product_from_list = Diagram.direct_multiple_list([diagram1, diagram2], verbose = True)\n",
    "print(Diagram.write_diagrams(product_from_list))"
   ]
  },
  {
   "cell_type": "markdown",
   "metadata": {},
   "source": [
    "## Tableau"
   ]
  },
  {
   "cell_type": "code",
   "execution_count": 7,
   "metadata": {},
   "outputs": [],
   "source": [
    "from tableau import Tableau"
   ]
  },
  {
   "cell_type": "markdown",
   "metadata": {},
   "source": [
    "Objects from the tableau class are instantiated by giving a list with lists corresonding to entries in each row, as follows:"
   ]
  },
  {
   "cell_type": "code",
   "execution_count": 8,
   "metadata": {},
   "outputs": [
    {
     "name": "stdout",
     "output_type": "stream",
     "text": [
      "1\n",
      "1 2 3\n",
      "4 5\n",
      "6\n",
      "\n"
     ]
    }
   ],
   "source": [
    "tab = Tableau([[1,2,3], [4,5],[6]])\n",
    "print(tab.write_diagram())"
   ]
  },
  {
   "cell_type": "markdown",
   "metadata": {},
   "source": [
    "from a tableau, we can extract a row by giving its index (indexing starting from 0). We can extract a column in the same way:"
   ]
  },
  {
   "cell_type": "code",
   "execution_count": 9,
   "metadata": {},
   "outputs": [
    {
     "name": "stdout",
     "output_type": "stream",
     "text": [
      "row 2: [4, 5]\n",
      "column 1: [1, 4, 6]\n"
     ]
    }
   ],
   "source": [
    "print('row 2:', tab.get_row(1))\n",
    "print('column 1:', tab.get_column(0))"
   ]
  },
  {
   "cell_type": "markdown",
   "metadata": {},
   "source": [
    "Similarly, we can get the row and column words, and the row and column-MOLD numbers."
   ]
  },
  {
   "cell_type": "code",
   "execution_count": 10,
   "metadata": {},
   "outputs": [
    {
     "name": "stdout",
     "output_type": "stream",
     "text": [
      "row word: [1, 2, 3, 4, 5, 6]\n",
      "row MOLD number: 0\n",
      "column word: [1, 4, 6, 2, 5, 3]\n",
      "column MOLD number: 3\n"
     ]
    }
   ],
   "source": [
    "print('row word:', tab.row_word())\n",
    "print('row MOLD number:', tab.row_mold())\n",
    "print('column word:', tab.column_word())\n",
    "print('column MOLD number:', tab.column_mold())"
   ]
  },
  {
   "cell_type": "markdown",
   "metadata": {},
   "source": [
    "We can also obtain the parent tableaux, and the ancestor tableau for some number of generations:"
   ]
  },
  {
   "cell_type": "code",
   "execution_count": 11,
   "metadata": {},
   "outputs": [
    {
     "name": "stdout",
     "output_type": "stream",
     "text": [
      "parent: 1\n",
      "1 2 3\n",
      "4 5\n",
      "\n",
      "3 generation ancestor: 1\n",
      "1 2 3\n",
      "\n"
     ]
    }
   ],
   "source": [
    "parent = tab.parent()\n",
    "print('parent:', parent.write_diagram())\n",
    "\n",
    "ancestor = tab.ancestor(3) # <- for three generations back\n",
    "print('3 generation ancestor:',ancestor.write_diagram())"
   ]
  },
  {
   "cell_type": "markdown",
   "metadata": {},
   "source": [
    "Finally, we can generate BirdtrackOperator objects from the tableau, both the simplest kind of operator (symmetriser and antisymmetriser), or the MOLD operator coresponding to the tableau."
   ]
  },
  {
   "cell_type": "code",
   "execution_count": 12,
   "metadata": {},
   "outputs": [],
   "source": [
    "from birdtrack_operator import BirdtrackOperator"
   ]
  },
  {
   "cell_type": "code",
   "execution_count": 26,
   "metadata": {
    "scrolled": false
   },
   "outputs": [
    {
     "name": "stdout",
     "output_type": "stream",
     "text": [
      "1\n",
      "1 2\n",
      "3\n",
      "\n",
      "Y = +1()+1(1 2)-1(1 3)-1(1 2 3)\n",
      "H = +2()+2(1 2)-1(1 3)-1(1 2 3)-1(1 3 2)-1(2 3)\n"
     ]
    }
   ],
   "source": [
    "tab2 = Tableau([[1,2],[3]])\n",
    "print(tab2.write_diagram())\n",
    "Y = tab2.as_operator()\n",
    "Y_cyclesum = Y.collapse()\n",
    "\n",
    "H = tab2.as_mold_operator()\n",
    "H_cyclesum = H.collapse()\n",
    "\n",
    "print('Y =', Y_cyclesum.write_as_cycles())\n",
    "print('H =', H_cyclesum.write_as_cycles())"
   ]
  },
  {
   "cell_type": "markdown",
   "metadata": {},
   "source": [
    "Note, normalising these operators in the constructor does not work reliably. It is best to normalise the CycleSum object independently.\n",
    "\n",
    "We can generate all the mold operators for a fiven diagram by writing their tableaux"
   ]
  },
  {
   "cell_type": "code",
   "execution_count": 27,
   "metadata": {},
   "outputs": [],
   "source": [
    "tabs_2_1 = [[[1,2],[3]], [[1,3],[2]]]\n",
    "\n",
    "tableaux_2_1 = [Tableau(tab) for tab in tabs_2_1]"
   ]
  },
  {
   "cell_type": "code",
   "execution_count": 28,
   "metadata": {},
   "outputs": [],
   "source": [
    "molds_2_1 = [tab.as_mold_operator() for tab in tableaux_2_1]"
   ]
  },
  {
   "cell_type": "code",
   "execution_count": 32,
   "metadata": {},
   "outputs": [
    {
     "name": "stdout",
     "output_type": "stream",
     "text": [
      "1\n",
      "1 2\n",
      "3\n",
      "\n",
      "+1/3()-1/3(1 2)+1/6(1 3)-1/6(1 2 3)-1/6(1 3 2)+1/6(2 3)\n",
      "----\n",
      "1\n",
      "1 3\n",
      "2\n",
      "\n",
      "+1/3()-1/3(1 2)+1/6(1 3)-1/6(1 2 3)-1/6(1 3 2)+1/6(2 3)\n",
      "----\n"
     ]
    }
   ],
   "source": [
    "for ind in range(len(tableaux_2_1)):\n",
    "    \n",
    "    print(tableaux_2_1[ind].write_diagram())\n",
    "    print(mold.collapse().normalise().write_as_cycles())\n",
    "    print('----')"
   ]
  },
  {
   "cell_type": "code",
   "execution_count": 35,
   "metadata": {},
   "outputs": [
    {
     "name": "stdout",
     "output_type": "stream",
     "text": [
      "+2/3()-1/3(1 2 3)-1/3(1 3 2)\n"
     ]
    }
   ],
   "source": [
    "print(molds_2_1[0].collapse().normalise().sum_with(molds_2_1[1].collapse().normalise()).write_as_cycles())"
   ]
  }
 ],
 "metadata": {
  "kernelspec": {
   "display_name": "Python 3",
   "language": "python",
   "name": "python3"
  },
  "language_info": {
   "codemirror_mode": {
    "name": "ipython",
    "version": 3
   },
   "file_extension": ".py",
   "mimetype": "text/x-python",
   "name": "python",
   "nbconvert_exporter": "python",
   "pygments_lexer": "ipython3",
   "version": "3.7.4"
  }
 },
 "nbformat": 4,
 "nbformat_minor": 2
}
