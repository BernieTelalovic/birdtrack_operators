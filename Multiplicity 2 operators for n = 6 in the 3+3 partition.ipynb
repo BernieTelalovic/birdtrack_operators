{
 "cells": [
  {
   "cell_type": "code",
   "execution_count": 1,
   "metadata": {},
   "outputs": [],
   "source": [
    "from cycle import Cycle\n",
    "import numpy as np\n",
    "import copy as cp\n",
    "import fractions as fr\n",
    "from diagram import Diagram\n",
    "from tableau import Tableau\n",
    "from cycle_sum import CycleSum\n",
    "from symmetriser import Symmetriser\n",
    "import tableau_utils as tu\n",
    "from birdtrack_operator import BirdtrackOperator\n",
    "from IPython.display import display, Math, Latex"
   ]
  },
  {
   "cell_type": "markdown",
   "metadata": {},
   "source": [
    "generating the total operator"
   ]
  },
  {
   "cell_type": "code",
   "execution_count": 5,
   "metadata": {},
   "outputs": [],
   "source": [
    "diag_3_2_1_pref = fr.Fraction(1,45)\n",
    "c3_pref = fr.Fraction(-2)\n",
    "c5_pref = 1\n",
    "c33_pref = fr.Fraction(-2)\n",
    "id_pref = fr.Fraction(16)\n",
    "\n",
    "cid = CycleSum([Cycle('')], prefactors = [id_pref*diag_3_2_1_pref])\n",
    "c3 = CycleSum(tu.conjugacy_class(6,[3])).multiply_by_constant(c3_pref*diag_3_2_1_pref)\n",
    "c5 = CycleSum(tu.conjugacy_class(6,[5])).multiply_by_constant(c5_pref*diag_3_2_1_pref)\n",
    "c33 = CycleSum(tu.conjugacy_class(6,[3,3])).multiply_by_constant(c33_pref*diag_3_2_1_pref)\n",
    "\n",
    "diag_3_2_1 = cid.sum_with(c3.sum_with(c5.sum_with(c33)))"
   ]
  },
  {
   "cell_type": "markdown",
   "metadata": {},
   "source": [
    "and generating the partition operator"
   ]
  },
  {
   "cell_type": "code",
   "execution_count": 6,
   "metadata": {},
   "outputs": [],
   "source": [
    "SA = BirdtrackOperator([Symmetriser([4,5]), Symmetriser([1,2]), \n",
    "                       Symmetriser([4,6], antisym = True), Symmetriser([1,3], antisym = True)])\n",
    "AS = BirdtrackOperator([Symmetriser([4,6], antisym = True), Symmetriser([1,3], antisym = True),\n",
    "                       Symmetriser([4,5]), Symmetriser([1,2])])"
   ]
  },
  {
   "cell_type": "markdown",
   "metadata": {},
   "source": [
    "and the CPS projector"
   ]
  },
  {
   "cell_type": "code",
   "execution_count": 47,
   "metadata": {},
   "outputs": [],
   "source": [
    "SA_diag_3_2_1_AS = SA.collapse().act_on(diag_3_2_1.act_on(AS.collapse())).normalise()"
   ]
  },
  {
   "cell_type": "markdown",
   "metadata": {},
   "source": [
    "Then, writing our projectors:"
   ]
  },
  {
   "cell_type": "code",
   "execution_count": 32,
   "metadata": {},
   "outputs": [],
   "source": [
    "P3con1_3 = BirdtrackOperator([Symmetriser([1,2]), Symmetriser([4,5]),\n",
    "                              Symmetriser([4,6], antisym = True),\n",
    "                                   Symmetriser([2,5], antisym = True), Symmetriser([1,3,4], antisym = True),\n",
    "                                   Symmetriser([4,5,6]), Symmetriser([2,3]),\n",
    "                                   Symmetriser([2,5], antisym = True), Symmetriser([1,3,4], antisym = True),\n",
    "                           Symmetriser([4,6], antisym = True),\n",
    "                           Symmetriser([1,2]), Symmetriser([4,5])], normalise = False)"
   ]
  },
  {
   "cell_type": "code",
   "execution_count": 33,
   "metadata": {},
   "outputs": [],
   "source": [
    "P2con1_3 = BirdtrackOperator([Symmetriser([1,2]), Symmetriser([4,5]),\n",
    "                           Symmetriser([1,3], antisym = True), Symmetriser([4,6], antisym = True),\n",
    "                               Symmetriser([3,4], antisym = True),\n",
    "                                   Symmetriser([2,4,5]), Symmetriser([1,6]),\n",
    "                                   Symmetriser([2,6], antisym = True), Symmetriser([1,3,4], antisym = True),\n",
    "                                   Symmetriser([2,4,5]), Symmetriser([1,6]),\n",
    "                               Symmetriser([3,4], antisym = True),\n",
    "                           Symmetriser([1,3], antisym = True), Symmetriser([4,6], antisym = True),\n",
    "                           Symmetriser([1,2]), Symmetriser([4,5])], normalise = False)"
   ]
  },
  {
   "cell_type": "code",
   "execution_count": 38,
   "metadata": {},
   "outputs": [],
   "source": [
    "P3_1_3col = P3con1_3.collapse().normalise()\n",
    "P2_1_3col = P2con1_3.collapse().normalise()"
   ]
  },
  {
   "cell_type": "code",
   "execution_count": 37,
   "metadata": {},
   "outputs": [
    {
     "data": {
      "text/plain": [
       "'0'"
      ]
     },
     "execution_count": 37,
     "metadata": {},
     "output_type": "execute_result"
    }
   ],
   "source": [
    "P3_1_3col.act_on(P2_1_3col).write_as_cycles()"
   ]
  },
  {
   "cell_type": "code",
   "execution_count": 39,
   "metadata": {},
   "outputs": [],
   "source": [
    "sums = P3_1_3col.sum_with(P2_1_3col)"
   ]
  },
  {
   "cell_type": "code",
   "execution_count": 48,
   "metadata": {
    "scrolled": true
   },
   "outputs": [
    {
     "data": {
      "text/plain": [
       "True"
      ]
     },
     "execution_count": 48,
     "metadata": {},
     "output_type": "execute_result"
    }
   ],
   "source": [
    "sums.is_equivalent_to(SA_diag_3_2_1_AS)"
   ]
  }
 ],
 "metadata": {
  "kernelspec": {
   "display_name": "Python 3",
   "language": "python",
   "name": "python3"
  },
  "language_info": {
   "codemirror_mode": {
    "name": "ipython",
    "version": 3
   },
   "file_extension": ".py",
   "mimetype": "text/x-python",
   "name": "python",
   "nbconvert_exporter": "python",
   "pygments_lexer": "ipython3",
   "version": "3.7.4"
  }
 },
 "nbformat": 4,
 "nbformat_minor": 2
}
